{
 "cells": [
  {
   "cell_type": "code",
   "execution_count": 36,
   "metadata": {
    "collapsed": true
   },
   "outputs": [],
   "source": [
    "from bs4 import BeautifulSoup\n",
    "import requests\n",
    "import ast\n",
    "import collections\n",
    "import CGAT.IOTools as IOTools"
   ]
  },
  {
   "cell_type": "code",
   "execution_count": 4,
   "metadata": {
    "scrolled": false
   },
   "outputs": [],
   "source": [
    "ENCODE_homepage = \"https://www.encodeproject.org/search/?type=Experiment&assay_title=eCLIP&files.file_type=bam&target.investigated_as=RNA+binding+protein&limit=all\"\n",
    "req = requests.get(ENCODE_homepage)\n",
    "soup = BeautifulSoup(req.text, \"lxml\")\n"
   ]
  },
  {
   "cell_type": "code",
   "execution_count": 13,
   "metadata": {
    "collapsed": true
   },
   "outputs": [],
   "source": [
    "outfile = \"download_beds.tsv\""
   ]
  },
  {
   "cell_type": "code",
   "execution_count": 45,
   "metadata": {
    "scrolled": false
   },
   "outputs": [
    {
     "name": "stdout",
     "output_type": "stream",
     "text": [
      "119\n"
     ]
    }
   ],
   "source": [
    "ENCODE_homepage = \"https://www.encodeproject.org/search/?type=Experiment&assay_title=eCLIP&files.file_type=bam&target.investigated_as=RNA+binding+protein&limit=all\"\n",
    "req = requests.get(ENCODE_homepage)\n",
    "soup = BeautifulSoup(req.text, \"lxml\")\n",
    "\n",
    "d = ast.literal_eval(str(soup.contents).split(\"\\n\")[8].replace(\"true\", \"True\").replace(\"false\", \"False\"))\n",
    "\n",
    "bedfiles = {}\n",
    "\n",
    "for sample in d['@graph']:\n",
    "    found = False\n",
    "    assert sample['assay_title']==\"eCLIP\", \"samples is not eCLIP! - %s\" % sample['assay_title']\n",
    "    \n",
    "    if sample['target']['label'] != sample['target']['gene_name']:\n",
    "        raise ValueError(\"inconsistent gene labelling: %s, %s\" % (\n",
    "            sample['target']['label'], sample['target']['gene_name']))\n",
    "                         \n",
    "    target = sample['target']['label']\n",
    "    bedfiles[target] = collections.defaultdict(lambda: collections.defaultdict())\n",
    "    sample_address = \"https://www.encodeproject.org\" + sample['@id']\n",
    "    req = requests.get(sample_address)\n",
    "    soup = BeautifulSoup(req.text, \"lxml\")\n",
    "\n",
    "    d2 = eval(str(soup.contents).split(\"\\n\")[8].replace(\"false\", \"False\").replace(\"true\", \"True\"))\n",
    "    \n",
    "    for file in d2['files']:\n",
    "        if file['file_type'] == \"bed narrowPeak\":\n",
    "            if file['assembly'] == 'GRCh38':\n",
    "                found = True\n",
    "                bed_name = file['@id'].split(\"/\")[-2]\n",
    "                bed_address = \"https://www.encodeproject.org%s/@@download/%s.bed.gz\" % (\n",
    "                    file['@id'], bed_name)\n",
    "                \n",
    "                cell_line = file['replicate']['experiment']['biosample_term_name']\n",
    "                replicate = file['biological_replicates'][0]\n",
    "                bedfiles[target][cell_line][replicate] = (bed_name, bed_address)\n",
    "    if not found:\n",
    "        print(\"not files found for %s\" % sample['target']['label'], sample_address)\n",
    "\n",
    "print(len(bedfiles))"
   ]
  },
  {
   "cell_type": "code",
   "execution_count": 46,
   "metadata": {},
   "outputs": [],
   "source": [
    "with IOTools.openFile(outfile, \"w\") as outf:\n",
    "    for sample in bedfiles:\n",
    "        for line in bedfiles[sample]:\n",
    "            for replicate in bedfiles[sample][line]:\n",
    "                bed_name, address = bedfiles[sample][line][replicate]\n",
    "                bed_out_name = \"%s_%s_%s_%s.bed.gz\" % (sample, line, replicate, bed_name)\n",
    "                outf.write(\"%s\\t%s\\n\" % (address, bed_out_name))"
   ]
  },
  {
   "cell_type": "markdown",
   "metadata": {},
   "source": [
    "Now we need to test code to subset the ENCODE data to the \"high quality\" eCLIP peaks (this code will be ultimately run within the PREPS manuscript pipeline"
   ]
  }
 ],
 "metadata": {
  "kernelspec": {
   "display_name": "Python 3",
   "language": "python",
   "name": "python3"
  },
  "language_info": {
   "codemirror_mode": {
    "name": "ipython",
    "version": 3
   },
   "file_extension": ".py",
   "mimetype": "text/x-python",
   "name": "python",
   "nbconvert_exporter": "python",
   "pygments_lexer": "ipython3",
   "version": "3.5.3"
  }
 },
 "nbformat": 4,
 "nbformat_minor": 2
}
