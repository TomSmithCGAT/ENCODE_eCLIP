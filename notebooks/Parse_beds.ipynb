{
 "cells": [
  {
   "cell_type": "markdown",
   "metadata": {},
   "source": [
    "Here we want to parse the ENCODE eCLIP beds and subset to only those peaks which pass their \"stringent\" thresholds. According to https://www.genome.gov/multimedia/slides/encode2016-researchappsusers/vannostrand_eclip.pdf:\n",
    "\n",
    "\"\n",
    "chr\\tstart\\tstop\\tdataset_label\\t1000\\tstrand\\tlog2(eCLIP fold-enrichment over size-matched input)\\t-log10(eCLIP vs size-matched input p-value)\\t-1\\t-1\n",
    "\n",
    "Note: p-value is calculated by Fisher’s Exact test (minimum p-value 2.2x10-16), with chi-square test (–log10(p-value) set to 400 if p-value reported == 0)\n",
    "\n",
    "Our typical ‘stringent’ cutoffs: require -log10(p-value) ≥ 5 and log2(fold-enrichment) ≥ 3 \n",
    "\"\n",
    "\n",
    "where the top line defines the columns and the final line denotes the thresholds\n",
    "\n",
    "We'll output each mark into \"per-contig\" outfiles so that we can use them with bedtools intersect more easily downstream"
   ]
  },
  {
   "cell_type": "code",
   "execution_count": 27,
   "metadata": {},
   "outputs": [],
   "source": [
    "import glob\n",
    "import os\n",
    "import collections\n",
    "import CGAT.IOTools as IOTools"
   ]
  },
  {
   "cell_type": "code",
   "execution_count": 67,
   "metadata": {},
   "outputs": [
    {
     "name": "stdout",
     "output_type": "stream",
     "text": [
      "238\n"
     ]
    }
   ],
   "source": [
    "infiles = glob.glob(\"../eCLIP_beds/*bed.gz\")\n",
    "infiles = [x for x in infiles if \"stringent\" not in x]\n",
    "print(len(infiles))"
   ]
  },
  {
   "cell_type": "code",
   "execution_count": 21,
   "metadata": {},
   "outputs": [
    {
     "name": "stdout",
     "output_type": "stream",
     "text": [
      "chr14_GL000194v1_random\t93861\t93917\tU2AF1_K562_rep02\t200\t-\t3.29346949707327\t1.86528752890148\t-1\t-1\n",
      "\n"
     ]
    }
   ],
   "source": [
    "n = 0\n",
    "with IOTools.openFile(infiles[0]) as inf:\n",
    "    for line in inf:\n",
    "        print(line)\n",
    "        break"
   ]
  },
  {
   "cell_type": "code",
   "execution_count": 58,
   "metadata": {
    "scrolled": false
   },
   "outputs": [
    {
     "name": "stdout",
     "output_type": "stream",
     "text": [
      "../eCLIP_beds/AUH_K562_2_ENCFF378AEN.bed.gz 55 1829 7 \r"
     ]
    }
   ],
   "source": [
    "all_peaks = collections.defaultdict(lambda: collections.defaultdict(list))\n",
    "for infile in infiles:\n",
    "    mark = os.path.basename(infile).split(\"_\")[0]\n",
    "    n = 0\n",
    "    outfile = IOTools.openFile(infile.replace(\".bed.gz\", \"_stringent.bed.gz\"), \"w\")\n",
    "    contigs_observed = set()\n",
    "    with IOTools.openFile(infile) as inf:\n",
    "        for line in inf:\n",
    "            contig, start, stop, _, __, ___, enrichment, p_value = line.split(\"\\t\")[0:8]\n",
    "            contigs_observed.add(contig)\n",
    "            enrichment, p_value = map(float, (enrichment, p_value))\n",
    "            start, stop = map(int, (start, stop))\n",
    "            enrichments.append(enrichment)\n",
    "            p_values.append(p_value)\n",
    "\n",
    "            if enrichment >= 3 and p_value > 5:\n",
    "                outfile.write(line)\n",
    "                n+=1\n",
    "                all_peaks[contig][mark].append((start, stop))\n",
    "    \n",
    "    outfile.close()\n",
    "    \n",
    "    # reorder peaks by position\n",
    "    for contig in contigs_observed:\n",
    "        all_peaks[contig][mark].sort(key=lambda x: x[0])\n",
    "        outfile = IOTools.openFile(infile.replace(\".bed.gz\", \"_%s_stringent.bed.gz\" % contig), \"w\")\n",
    "        for peak in all_peaks[contig][mark]:\n",
    "            start, stop = map(str, peak)\n",
    "            outfile.write(\"\\t\".join((contig, start, stop)) + \"\\n\")\n",
    "        outfile.close()\n",
    "        \n",
    "        \n",
    "    \n",
    "    print(infile, n, \"\\r\", end=\"\")\n",
    "    #break\n",
    "\n"
   ]
  }
 ],
 "metadata": {
  "kernelspec": {
   "display_name": "Python 3",
   "language": "python",
   "name": "python3"
  },
  "language_info": {
   "codemirror_mode": {
    "name": "ipython",
    "version": 3
   },
   "file_extension": ".py",
   "mimetype": "text/x-python",
   "name": "python",
   "nbconvert_exporter": "python",
   "pygments_lexer": "ipython3",
   "version": "3.6.3"
  }
 },
 "nbformat": 4,
 "nbformat_minor": 2
}
